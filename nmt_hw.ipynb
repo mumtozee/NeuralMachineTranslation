{
 "cells": [
  {
   "attachments": {},
   "cell_type": "markdown",
   "id": "1a62d887-01aa-4980-9220-3bf28c077504",
   "metadata": {},
   "source": [
    "### Домашнее задание Transformers Training (50 баллов)"
   ]
  },
  {
   "attachments": {},
   "cell_type": "markdown",
   "id": "f31d7452-febe-4d25-a9c1-005fcc26b35b",
   "metadata": {},
   "source": [
    "В этом домашнем задании требуется обучить несколько Transformer-based моделей в задаче машинного перевода. Для обучения можно воспользоваться текущим проектом, так и реализовать свой пайплайн обучения. Если будете использовать проект, теги **TODO** проекта отмечают, какие компоненты надо реализовать.\n",
    "В ноутбуке нужно только отобразить результаты обучения и выводы. Архитектура модели(количетсво слоев, размерность и тд) остается на ваш выбор.\n",
    "\n",
    "Ваш код обучения нужно выложить на ваш github, в строке ниже дать ссылку на него. В первую очередь будут оцениваться результаты в ноутбуке, код нужен для проверки адекватности результатов. \n",
    "\n",
    "Обучать модели до конца не нужно, только для демонстрации, что модель обучается и рабочая - снижение val_loss, рост bleu_score."
   ]
  },
  {
   "attachments": {},
   "cell_type": "markdown",
   "id": "a691e7b9-6538-42b1-96b8-838f2efab4af",
   "metadata": {},
   "source": [
    "#### Сcылка на ваш github с проектом(вставить свой) - https://github.com/runnerup96/pytorch-machine-translation\n",
    "\n",
    "Ноутбук с результатами выкладывать на ваш **google диск** курса. "
   ]
  },
  {
   "attachments": {},
   "cell_type": "markdown",
   "id": "dbca1e62-b210-4426-9854-55b652417a4b",
   "metadata": {},
   "source": [
    "### Данные\n",
    "\n",
    "`\n",
    "wget https://www.manythings.org/anki/rus-eng.zip && unzip rus-eng.zip\n",
    "`\n",
    "\n",
    "Модели нужно обучить на задаче перевода с английского на русский. "
   ]
  },
  {
   "cell_type": "code",
   "execution_count": 1,
   "id": "ce16d6db",
   "metadata": {},
   "outputs": [],
   "source": [
    "import torch\n",
    "import numpy as np\n",
    "import random\n",
    "import torch.nn as nn\n",
    "import yaml\n",
    "from src.data.datamodule import DataManager\n",
    "from src.txt_logger import TXTLogger\n",
    "%reload_ext autoreload\n",
    "%autoreload 2\n",
    "from src.models.seq2seq_transformer import Seq2SeqTransformer\n",
    "from src.models import trainer"
   ]
  },
  {
   "cell_type": "code",
   "execution_count": 2,
   "id": "8b2cbb13",
   "metadata": {},
   "outputs": [],
   "source": [
    "torch.manual_seed(42)\n",
    "np.random.seed(42)\n",
    "random.seed(42)\n",
    "\n",
    "if torch.cuda.is_available():\n",
    "    DEVICE = \"cuda\"\n",
    "else:\n",
    "    DEVICE = \"cpu\""
   ]
  },
  {
   "cell_type": "code",
   "execution_count": null,
   "id": "2d2da235",
   "metadata": {},
   "outputs": [],
   "source": [
    "data_config = yaml.load(open(\"configs/data_config.yaml\", \"r\"), Loader=yaml.Loader)\n",
    "dm = DataManager(data_config, DEVICE)\n",
    "train_dataloader, dev_dataloader = dm.prepare_data()"
   ]
  },
  {
   "cell_type": "code",
   "execution_count": 3,
   "id": "e42cf7e8",
   "metadata": {},
   "outputs": [
    {
     "data": {
      "text/plain": [
       "(5301, 1326)"
      ]
     },
     "execution_count": 3,
     "metadata": {},
     "output_type": "execute_result"
    }
   ],
   "source": [
    "len(train_dataloader.dataset), len(dev_dataloader.dataset)"
   ]
  },
  {
   "cell_type": "code",
   "execution_count": 4,
   "id": "ef1dcd37",
   "metadata": {},
   "outputs": [
    {
     "data": {
      "text/plain": [
       "(3955, 7116)"
      ]
     },
     "execution_count": 4,
     "metadata": {},
     "output_type": "execute_result"
    }
   ],
   "source": [
    "dm.source_tokenizer.tokenizer.get_vocab_size(), dm.target_tokenizer.tokenizer.get_vocab_size()"
   ]
  },
  {
   "cell_type": "code",
   "execution_count": 15,
   "id": "5f437c23",
   "metadata": {},
   "outputs": [
    {
     "data": {
      "text/plain": [
       "torch.Size([128, 64])"
      ]
     },
     "execution_count": 15,
     "metadata": {},
     "output_type": "execute_result"
    }
   ],
   "source": [
    "batch = next(iter(train_dataloader))\n",
    "batch[0].shape"
   ]
  },
  {
   "attachments": {},
   "cell_type": "markdown",
   "id": "cc772a6e-7d1a-4d8d-8024-0454a948835b",
   "metadata": {
    "tags": []
   },
   "source": [
    "### Обучение Seq2seq Transformer модель(25 баллов)\n",
    "\n",
    "Реализуйте Seq2seq Transformer. В качестве блока трансформера можно использовать https://pytorch.org/docs/stable/generated/torch.nn.Transformer.html. В качестве токенизатора воспользуйтесь HuggingFace токенизатор для source/target языков - https://huggingface.co/docs/transformers/fast_tokenizers\n",
    "В качестве максимальной длинны возьмите предложения длинной **до 15 слов**, без каких либо префиксов. \n",
    "\n",
    "Не забудьте остальные элементы модели:\n",
    "* Мы можем использовать 1 трансформер как энкодер - декодером будет выступать линейный слой. \n",
    "* Обучите свой BPE токенизатор - https://huggingface.co/docs/transformers/fast_tokenizers\n",
    "* Матрицу эмбеддингов токенов\n",
    "* Матрицу позицонных эмбеддингов\n",
    "* Линейный слой проекции в target словарь\n",
    "* Функцию маскирования будущих состояний attention, так как модель авто-регрессионна\n",
    "* Learning rate schedualer\n",
    "\n",
    "\n",
    "В качестве результатов, приложите слудующие данные:\n",
    "1) Параметры обучения - learning rate, batch_size, epoch_num, размерность скрытого слоя, количетсво слоев\n",
    "2) Графики обучения - train loss, val loss, bleu score\n",
    "3) Примеры переводов вашей модели(10 штук) - source text, true target text, predicted target text"
   ]
  },
  {
   "cell_type": "code",
   "execution_count": 3,
   "id": "7a7ce070-1e45-47ac-a07a-c36b6baa114e",
   "metadata": {},
   "outputs": [],
   "source": [
    "model_config = yaml.load(open(\"configs/model_config.yaml\", 'r'),   Loader=yaml.Loader)\n",
    "model_config[\"device\"] = DEVICE\n",
    "model_config[\"tgt_vocab_size\"] = dm.target_tokenizer.tokenizer.get_vocab_size()\n",
    "model_config[\"src_vocab_size\"] = dm.source_tokenizer.tokenizer.get_vocab_size()\n",
    "model = Seq2SeqTransformer(model_config).to(DEVICE)\n",
    "\n",
    "for p in model.parameters():\n",
    "    if p.dim() > 1:\n",
    "        nn.init.xavier_uniform_(p)"
   ]
  },
  {
   "cell_type": "code",
   "execution_count": 4,
   "id": "8f074a26",
   "metadata": {},
   "outputs": [
    {
     "data": {
      "text/plain": [
       "{'nhead': 8,\n",
       " 'emb_size': 512,\n",
       " 'dim_feedforward': 512,\n",
       " 'num_encoder_layers': 6,\n",
       " 'num_decoder_layers': 6,\n",
       " 'dropout': 0.1,\n",
       " 'lr': 1e-05,\n",
       " 'weight_decay': 0.03,\n",
       " 'epoch_num': 100,\n",
       " 'try_one_batch': False,\n",
       " 'device': 'cuda',\n",
       " 'tgt_vocab_size': 7116,\n",
       " 'src_vocab_size': 3955}"
      ]
     },
     "execution_count": 4,
     "metadata": {},
     "output_type": "execute_result"
    }
   ],
   "source": [
    "model_config"
   ]
  },
  {
   "cell_type": "code",
   "execution_count": 5,
   "id": "98ef996b",
   "metadata": {},
   "outputs": [
    {
     "name": "stderr",
     "output_type": "stream",
     "text": [
      " 98%|█████████████████████████████████████████▏| 98/100 [25:51<00:32, 16.12s/it]"
     ]
    }
   ],
   "source": [
    "import warnings\n",
    "warnings.filterwarnings(action=\"ignore\", category=UserWarning)\n",
    "\n",
    "logger = TXTLogger(\"training_logs\")\n",
    "trainer_cls = trainer.Trainer(\n",
    "    model=model,\n",
    "    model_config=model_config,\n",
    "    logger=logger,\n",
    "    target_tokenizer=dm.target_tokenizer,\n",
    ")\n",
    "\n",
    "if model_config[\"try_one_batch\"]:\n",
    "    train_dataloader = [list(train_dataloader)[0]]\n",
    "    dev_dataloader = [list(train_dataloader)[0]]\n",
    "\n",
    "trainer_cls.train(train_dataloader, dev_dataloader)"
   ]
  },
  {
   "cell_type": "code",
   "execution_count": 6,
   "id": "f6572d93",
   "metadata": {},
   "outputs": [
    {
     "data": {
      "text/plain": [
       "torch.Size([10, 36])"
      ]
     },
     "execution_count": 6,
     "metadata": {},
     "output_type": "execute_result"
    }
   ],
   "source": [
    "tmp_batch = next(iter(dev_dataloader))\n",
    "inp, tgt = tmp_batch[0][:10], tmp_batch[1][:10]\n",
    "model.eval()\n",
    "with torch.no_grad():\n",
    "    out = model.generate(inp)\n",
    "out.shape"
   ]
  },
  {
   "cell_type": "code",
   "execution_count": 7,
   "id": "6b472ae3",
   "metadata": {},
   "outputs": [
    {
     "name": "stdout",
     "output_type": "stream",
     "text": [
      "1.\tEN: no one can deny the fact that there is no smoke without fire\n",
      "\tRU: никто не может отрицать тот фак т что нет ды ма без огня\n",
      "\tPRED: никто не может ни ни ни ни ни ни остановить\n",
      "2.\tEN: on hot days swe at helps reg ul ate the temper at ure of the body\n",
      "\tRU: в жа р кие дни пот помогает ре гу лировать тем пе ра ту ру те ла\n",
      "\tPRED: в один из моих на на на на на на на на на на на на на на на на на на на на на на на на\n",
      "3.\tEN: on arriving in the town he went st ra ight to see her\n",
      "\tRU: при бы в в город он сразу на прави лся к ней\n",
      "\tPRED: в следующий раз в в в в в в в в в в в в в в в в в в\n",
      "4.\tEN: no matter how you look at it the od ds are st a cked against us\n",
      "\tRU: как на это ни смотри шан сы против нас\n",
      "\tPRED: в один из нас не может на на на на на на на на на на на на на на на на на на на на на на на на на на на на\n",
      "5.\tEN: each time i see mary i learn something new and important from her\n",
      "\tRU: каждый раз когда вижу мэри я узнаю что то новое и важно е от неё\n",
      "\tPRED: каждый я не я в я в я в в в в в в в в\n",
      "6.\tEN: nothing out of the ordinary happened on our tri p\n",
      "\tRU: во время нашего путеше ствия ничего неожиданного не случилось\n",
      "\tPRED: ничего не будет с ничего\n",
      "7.\tEN: everyone ad mi res the pictures pain ted by him\n",
      "\tRU: все восхи щаются напис ан ными им ка рти нами\n",
      "\tPRED: все в в в свои в свои свои свои свои в свои\n",
      "8.\tEN: never have i seen such a beautiful sun set\n",
      "\tRU: я никогда не видел такого краси во го за ката\n",
      "\tPRED: никогда не пришёл меня меня с меня\n",
      "9.\tEN: nobody listens until you say something wrong\n",
      "\tRU: никто не слушает пока вы не скаж ете что то не верно\n",
      "\tPRED: никто не знал что ты не что ты ты не ты\n",
      "10.\tEN: everybody in the room was doing the same thing\n",
      "\tRU: все в комнате были заняты одним и тем же\n",
      "\tPRED: все в в в в в в в в в в в в в в в в в в в\n"
     ]
    }
   ],
   "source": [
    "for i in range(10):\n",
    "    src_decoded = \" \".join(dm.source_tokenizer.decode(inp[i].cpu().numpy().tolist()))\n",
    "    out_decoded = \" \".join(dm.target_tokenizer.decode(out[i].cpu().numpy().tolist()))\n",
    "    tgt_decoded = \" \".join(dm.target_tokenizer.decode(tgt[i].cpu().numpy().tolist()))\n",
    "    print(f\"{1 + i}.\\tEN: {src_decoded}\\n\\tRU: {tgt_decoded}\\n\\tPRED: {out_decoded}\")"
   ]
  },
  {
   "cell_type": "code",
   "execution_count": 15,
   "id": "0263c4dc",
   "metadata": {},
   "outputs": [],
   "source": [
    "%autoreload 2\n",
    "from src.data.utils import plot_results"
   ]
  },
  {
   "cell_type": "code",
   "execution_count": 10,
   "id": "3d0b0353",
   "metadata": {},
   "outputs": [
    {
     "data": {
      "image/png": "[encoded data removed]",
      "text/plain": [
       "<Figure size 1200x400 with 2 Axes>"
      ]
     },
     "metadata": {},
     "output_type": "display_data"
    }
   ],
   "source": [
    "plot_results(\"./training_logs/nmt_transformer_final.txt\")"
   ]
  },
  {
   "attachments": {},
   "cell_type": "markdown",
   "id": "245297ae-d62b-4227-9312-ccff5a1c13c9",
   "metadata": {},
   "source": [
    "### Fine-tune pretrained T5 (25 баллов)\n",
    "\n",
    "Реализуйте Seq2seq Pretrained T5. Воспользуйтесь https://huggingface.co/docs/transformers/model_doc/t5 предобученной моделью. В качестве максимальной длинны возьмите предложения длинной **до 15 слов**, без каких либо префиксов. Архитектура модели(количетсво слоев, размерность и тд) остается на ваш выбор.\n",
    "\n",
    "Не забудьте важные аспекты обучения модели:\n",
    "* Взять готовый t5 токенизатор\n",
    "* Resize matrix embedding - скорей всего ваша матрица эмбеддингов не будет включать эмбеддинги из вашего сета. Пример обновления матрицы эмбеддингов тут тут https://github.com/runnerup96/Transformers-Tuning/blob/main/t5_encoder_decoder.py\n",
    "* Learning rate schedualer/Adafactor with constant learning rate\n",
    "\n",
    "\n",
    "В качестве результатов, приложите слудующие данные:\n",
    "1) Параметры обучения - learning rate, batch_size, epoch_num, pretrained model name\n",
    "2) Графики обучения - train loss, val loss, bleu score\n",
    "3) Примеры переводов вашей модели(10 штук) - source text, true target text, predicted target text"
   ]
  },
  {
   "attachments": {},
   "cell_type": "markdown",
   "id": "d3950a17",
   "metadata": {},
   "source": [
    "# prepare data for T5"
   ]
  },
  {
   "cell_type": "code",
   "execution_count": 9,
   "id": "fdc2c06d",
   "metadata": {},
   "outputs": [
    {
     "data": {
      "image/png": "[encoded data removed]",
      "text/plain": [
       "<Figure size 1200x400 with 2 Axes>"
      ]
     },
     "metadata": {},
     "output_type": "display_data"
    }
   ],
   "source": [
    "plot_results(\"./training_logs/t5v1_final.txt\")"
   ]
  },
  {
   "attachments": {},
   "cell_type": "markdown",
   "id": "d0233c08",
   "metadata": {},
   "source": [
    "<strong style=\"color:red\">!!NOTE!!</strong> Результат модели с Т5 с добавлением эмбеддингов для русского языка не оказался удовлетворительным, требуется больше времени и данных для предобучения эмбеддингов. Поэтому я решил использовтаь мультилингуальный Т5 с готовыми эмбеддингами для 101 языков."
   ]
  },
  {
   "cell_type": "code",
   "execution_count": 3,
   "id": "d596801e",
   "metadata": {},
   "outputs": [],
   "source": [
    "from src.data.utils import TextUtils, T2TDataCollator, short_text_filter_function, to_csv"
   ]
  },
  {
   "cell_type": "code",
   "execution_count": 5,
   "id": "c9553657",
   "metadata": {},
   "outputs": [
    {
     "name": "stderr",
     "output_type": "stream",
     "text": [
      "Reading from file: 100%|████████████| 467119/467119 [00:04<00:00, 103372.27it/s]\n"
     ]
    }
   ],
   "source": [
    "data_config = yaml.load(open(\"configs/data_config.yaml\", \"r\"), Loader=yaml.Loader)\n",
    "pairs = TextUtils.read_langs_pairs_from_file(filename=data_config[\"filename\"])\n",
    "prefix_filter = None\n",
    "if prefix_filter:\n",
    "    prefix_filter = tuple(prefix_filter)\n",
    "\n",
    "source_sentences, target_sentences = [], []\n",
    "# dataset is ambiguous -> i lied -> я солгал/я соврала\n",
    "unique_sources = set()\n",
    "for pair in pairs:\n",
    "    source, target = pair[0], pair[1]\n",
    "    if (\n",
    "        short_text_filter_function(\n",
    "            pair, data_config[\"max_length\"], prefix_filter\n",
    "        )\n",
    "        and source not in unique_sources\n",
    "    ):\n",
    "        source_sentences.append(source)\n",
    "        target_sentences.append(target)\n",
    "        unique_sources.add(source)\n",
    "\n",
    "train_size = int(len(source_sentences) * data_config[\"train_size\"])\n",
    "source_train_sentences, source_val_sentences = (\n",
    "    source_sentences[:train_size],\n",
    "    source_sentences[train_size:],\n",
    ")\n",
    "target_train_sentences, target_val_sentences = (\n",
    "    target_sentences[:train_size],\n",
    "    target_sentences[train_size:],\n",
    ")"
   ]
  },
  {
   "cell_type": "code",
   "execution_count": 4,
   "id": "008ef808",
   "metadata": {},
   "outputs": [],
   "source": [
    "from transformers import T5TokenizerFast, T5ForConditionalGeneration\n",
    "from datasets import load_dataset"
   ]
  },
  {
   "cell_type": "code",
   "execution_count": 5,
   "id": "5993bdc9-44f6-4af8-8e46-36d4e6824ca4",
   "metadata": {},
   "outputs": [
    {
     "name": "stderr",
     "output_type": "stream",
     "text": [
      "/home/akhmadjonov/miniconda3/envs/sber/lib/python3.9/site-packages/transformers/convert_slow_tokenizer.py:446: UserWarning: The sentencepiece tokenizer that you are converting to a fast tokenizer uses the byte fallback option which is not implemented in the fast tokenizers. In practice this means that the fast version of the tokenizer can produce unknown tokens whereas the sentencepiece version would have converted these unknown tokens into a sequence of byte tokens matching the original piece of text.\n",
      "  warnings.warn(\n"
     ]
    }
   ],
   "source": [
    "TOKER_PATH = \"google/mt5-small\"\n",
    "# TOKER_PATH = \"./tokenizers/ru_eng/\"\n",
    "MODEL_PATH = \"google/mt5-small\"\n",
    "# MODEL_PATH = \"google/t5-v1_1-small\"\n",
    "t5toker = T5TokenizerFast.from_pretrained(TOKER_PATH)\n",
    "# new_toker = t5toker.train_new_from_iterator(target_train_sentences, vocab_size=50_000)\n",
    "# new_added = t5toker.add_tokens(list(new_toker.get_vocab().keys()))\n",
    "# t5toker.save_pretrained(\"./tokenizers/ru_eng/\")"
   ]
  },
  {
   "cell_type": "code",
   "execution_count": 14,
   "id": "e50f9581",
   "metadata": {},
   "outputs": [],
   "source": [
    "to_csv(source_train_sentences, target_train_sentences, \"./train.csv\")\n",
    "to_csv(source_val_sentences, target_val_sentences, \"./val.csv\")"
   ]
  },
  {
   "cell_type": "code",
   "execution_count": 6,
   "id": "43652409",
   "metadata": {},
   "outputs": [
    {
     "name": "stderr",
     "output_type": "stream",
     "text": [
      "Using custom data configuration .-3d4b1b44b0521222\n",
      "Found cached dataset csv (/home/akhmadjonov/.cache/huggingface/datasets/csv/.-3d4b1b44b0521222/0.0.0/6b34fb8fcf56f7c8ba51dc895bfa2bfbe43546f190a60fcf74bb5e8afdcc2317)\n"
     ]
    },
    {
     "data": {
      "application/vnd.jupyter.widget-view+json": {
       "model_id": "9e58fc985ce74d74b76e73ae60f17d78",
       "version_major": 2,
       "version_minor": 0
      },
      "text/plain": [
       "  0%|          | 0/2 [00:00<?, ?it/s]"
      ]
     },
     "metadata": {},
     "output_type": "display_data"
    },
    {
     "data": {
      "text/plain": [
       "DatasetDict({\n",
       "    train: Dataset({\n",
       "        features: ['en', 'ru'],\n",
       "        num_rows: 245772\n",
       "    })\n",
       "    val: Dataset({\n",
       "        features: ['en', 'ru'],\n",
       "        num_rows: 61443\n",
       "    })\n",
       "})"
      ]
     },
     "execution_count": 6,
     "metadata": {},
     "output_type": "execute_result"
    }
   ],
   "source": [
    "data = load_dataset(path=\".\", data_files={\"train\": \"./train.csv\", \"val\": \"./val.csv\"})\n",
    "data"
   ]
  },
  {
   "cell_type": "code",
   "execution_count": 7,
   "id": "535240e9",
   "metadata": {},
   "outputs": [
    {
     "name": "stdout",
     "output_type": "stream",
     "text": [
      " "
     ]
    },
    {
     "name": "stderr",
     "output_type": "stream",
     "text": [
      "Loading cached processed dataset at /home/akhmadjonov/.cache/huggingface/datasets/csv/.-3d4b1b44b0521222/0.0.0/6b34fb8fcf56f7c8ba51dc895bfa2bfbe43546f190a60fcf74bb5e8afdcc2317/cache-c151c87997bde405.arrow\n"
     ]
    },
    {
     "name": "stdout",
     "output_type": "stream",
     "text": [
      " "
     ]
    },
    {
     "name": "stderr",
     "output_type": "stream",
     "text": [
      "Loading cached processed dataset at /home/akhmadjonov/.cache/huggingface/datasets/csv/.-3d4b1b44b0521222/0.0.0/6b34fb8fcf56f7c8ba51dc895bfa2bfbe43546f190a60fcf74bb5e8afdcc2317/cache-2e8a4cf193132600.arrow\n"
     ]
    },
    {
     "name": "stdout",
     "output_type": "stream",
     "text": [
      " "
     ]
    },
    {
     "name": "stderr",
     "output_type": "stream",
     "text": [
      "Loading cached processed dataset at /home/akhmadjonov/.cache/huggingface/datasets/csv/.-3d4b1b44b0521222/0.0.0/6b34fb8fcf56f7c8ba51dc895bfa2bfbe43546f190a60fcf74bb5e8afdcc2317/cache-e51ccf9dd04cb3b3.arrow\n"
     ]
    },
    {
     "name": "stdout",
     "output_type": "stream",
     "text": [
      " "
     ]
    },
    {
     "name": "stderr",
     "output_type": "stream",
     "text": [
      "Loading cached processed dataset at /home/akhmadjonov/.cache/huggingface/datasets/csv/.-3d4b1b44b0521222/0.0.0/6b34fb8fcf56f7c8ba51dc895bfa2bfbe43546f190a60fcf74bb5e8afdcc2317/cache-d0503b3588534c23.arrow\n"
     ]
    },
    {
     "name": "stdout",
     "output_type": "stream",
     "text": [
      " "
     ]
    },
    {
     "name": "stderr",
     "output_type": "stream",
     "text": [
      "Loading cached processed dataset at /home/akhmadjonov/.cache/huggingface/datasets/csv/.-3d4b1b44b0521222/0.0.0/6b34fb8fcf56f7c8ba51dc895bfa2bfbe43546f190a60fcf74bb5e8afdcc2317/cache-c84e17666257c02d.arrow\n"
     ]
    },
    {
     "name": "stdout",
     "output_type": "stream",
     "text": [
      " "
     ]
    },
    {
     "name": "stderr",
     "output_type": "stream",
     "text": [
      "Loading cached processed dataset at /home/akhmadjonov/.cache/huggingface/datasets/csv/.-3d4b1b44b0521222/0.0.0/6b34fb8fcf56f7c8ba51dc895bfa2bfbe43546f190a60fcf74bb5e8afdcc2317/cache-fccfd486e78758ab.arrow\n"
     ]
    },
    {
     "name": "stdout",
     "output_type": "stream",
     "text": [
      " "
     ]
    },
    {
     "name": "stderr",
     "output_type": "stream",
     "text": [
      "Loading cached processed dataset at /home/akhmadjonov/.cache/huggingface/datasets/csv/.-3d4b1b44b0521222/0.0.0/6b34fb8fcf56f7c8ba51dc895bfa2bfbe43546f190a60fcf74bb5e8afdcc2317/cache-f240c832ae71563d.arrow\n"
     ]
    },
    {
     "name": "stdout",
     "output_type": "stream",
     "text": [
      " "
     ]
    },
    {
     "name": "stderr",
     "output_type": "stream",
     "text": [
      "Loading cached processed dataset at /home/akhmadjonov/.cache/huggingface/datasets/csv/.-3d4b1b44b0521222/0.0.0/6b34fb8fcf56f7c8ba51dc895bfa2bfbe43546f190a60fcf74bb5e8afdcc2317/cache-c7284833f498c945.arrow\n"
     ]
    }
   ],
   "source": [
    "def tokenize(batch):\n",
    "    input_enc = t5toker.batch_encode_plus(\n",
    "        batch[\"en\"], padding=\"max_length\", truncation=True, max_length=64\n",
    "    )\n",
    "    target_enc = t5toker.batch_encode_plus(\n",
    "        batch[\"ru\"], padding=\"max_length\", truncation=True, max_length=64\n",
    "    )\n",
    "    encodings = {\n",
    "        \"input_ids\": input_enc[\"input_ids\"],\n",
    "        \"attention_mask\": input_enc[\"attention_mask\"],\n",
    "        \"labels\": target_enc[\"input_ids\"],\n",
    "        \"decoder_attention_mask\": target_enc[\"attention_mask\"],\n",
    "    }\n",
    "    return encodings\n",
    "\n",
    "\n",
    "data_enc = data.map(\n",
    "    tokenize, batched=True, num_proc=4, remove_columns=data[\"train\"].column_names\n",
    ")\n",
    "columns = [\"input_ids\", \"labels\", \"attention_mask\", \"decoder_attention_mask\"]\n",
    "data_enc.set_format(type=\"torch\", columns=columns)"
   ]
  },
  {
   "cell_type": "code",
   "execution_count": 8,
   "id": "2ce87dda",
   "metadata": {},
   "outputs": [
    {
     "data": {
      "text/plain": [
       "tensor([[250099,   2839,  58767,    833, 160787,      1,   -100,   -100,   -100,\n",
       "           -100,   -100,   -100,   -100,   -100,   -100,   -100,   -100,   -100,\n",
       "           -100,   -100,   -100,   -100,   -100,   -100,   -100,   -100,   -100,\n",
       "           -100,   -100,   -100,   -100,   -100,   -100,   -100,   -100,   -100,\n",
       "           -100,   -100,   -100,   -100,   -100,   -100,   -100,   -100,   -100,\n",
       "           -100,   -100,   -100,   -100,   -100,   -100,   -100,   -100,   -100,\n",
       "           -100,   -100,   -100,   -100,   -100,   -100,   -100,   -100,   -100,\n",
       "           -100]])"
      ]
     },
     "execution_count": 8,
     "metadata": {},
     "output_type": "execute_result"
    }
   ],
   "source": [
    "collator = T2TDataCollator()\n",
    "tmp1 = data_enc[\"train\"][23]\n",
    "out = collator([tmp1])\n",
    "out[\"labels\"]"
   ]
  },
  {
   "attachments": {},
   "cell_type": "markdown",
   "id": "f8a80b67",
   "metadata": {},
   "source": [
    "# LOAD MODEL & TRAIN"
   ]
  },
  {
   "cell_type": "code",
   "execution_count": 8,
   "id": "8487c41e",
   "metadata": {},
   "outputs": [
    {
     "name": "stderr",
     "output_type": "stream",
     "text": [
      "\u001b[34m\u001b[1mwandb\u001b[0m: Currently logged in as: \u001b[33mimumtozee\u001b[0m. Use \u001b[1m`wandb login --relogin`\u001b[0m to force relogin\n"
     ]
    },
    {
     "data": {
      "text/plain": [
       "True"
      ]
     },
     "execution_count": 8,
     "metadata": {},
     "output_type": "execute_result"
    }
   ],
   "source": [
    "import wandb\n",
    "\n",
    "wandb.login()"
   ]
  },
  {
   "cell_type": "code",
   "execution_count": 9,
   "id": "d1f09a7b",
   "metadata": {},
   "outputs": [
    {
     "name": "stdout",
     "output_type": "stream",
     "text": [
      "env: WANDB_PROJECT=eng_ru_nmt\n"
     ]
    }
   ],
   "source": [
    "%env WANDB_PROJECT=eng_ru_nmt"
   ]
  },
  {
   "cell_type": "code",
   "execution_count": 9,
   "id": "4db010bf",
   "metadata": {},
   "outputs": [],
   "source": [
    "from transformers import (\n",
    "    Seq2SeqTrainer,\n",
    "    Seq2SeqTrainingArguments,\n",
    "    set_seed,\n",
    "    MT5ForConditionalGeneration,\n",
    ")"
   ]
  },
  {
   "cell_type": "code",
   "execution_count": 11,
   "id": "839ac567",
   "metadata": {},
   "outputs": [],
   "source": [
    "set_seed(42)\n",
    "# t5 = T5ForConditionalGeneration.from_pretrained(MODEL_PATH)\n",
    "# t5.resize_token_embeddings(len(t5toker.get_vocab()))\n",
    "t5 = MT5ForConditionalGeneration.from_pretrained(MODEL_PATH)"
   ]
  },
  {
   "cell_type": "code",
   "execution_count": 13,
   "id": "d5313d91",
   "metadata": {},
   "outputs": [
    {
     "data": {
      "text/plain": [
       "960.046875"
      ]
     },
     "execution_count": 13,
     "metadata": {},
     "output_type": "execute_result"
    }
   ],
   "source": [
    "len(data_enc[\"train\"]) / 256"
   ]
  },
  {
   "cell_type": "code",
   "execution_count": 12,
   "id": "9841c438",
   "metadata": {},
   "outputs": [],
   "source": [
    "set_seed(42)\n",
    "\n",
    "BATCH_SIZE = 64\n",
    "\n",
    "training_args = Seq2SeqTrainingArguments(\n",
    "    output_dir=f\"./checkpoints/mT5_small\",\n",
    "    evaluation_strategy=\"steps\",\n",
    "    eval_steps=200,\n",
    "    report_to=\"wandb\",\n",
    "    run_name=\"mt5-small-lr2e5\",\n",
    "    optim=\"adamw_torch\",\n",
    "    learning_rate=2e-5,\n",
    "    weight_decay=0.01,\n",
    "    save_steps=200,\n",
    "    per_device_eval_batch_size=BATCH_SIZE,\n",
    "    per_device_train_batch_size=BATCH_SIZE,\n",
    "    num_train_epochs=2,\n",
    "    logging_strategy=\"steps\",\n",
    "    logging_steps=200,\n",
    ")\n",
    "\n",
    "trainer = Seq2SeqTrainer(\n",
    "    model=t5,\n",
    "    args=training_args,\n",
    "    train_dataset=data_enc[\"train\"],\n",
    "    eval_dataset=data_enc[\"val\"],\n",
    "    data_collator=T2TDataCollator(),\n",
    ")"
   ]
  },
  {
   "cell_type": "code",
   "execution_count": 13,
   "id": "ddb4759e",
   "metadata": {},
   "outputs": [],
   "source": [
    "import json\n",
    "with open(\"./checkpoints/mT5_small/training_args.json\", \"w+\") as f:\n",
    "    json.dump(training_args.to_dict(), f, indent=2)"
   ]
  },
  {
   "cell_type": "code",
   "execution_count": 14,
   "id": "c82b35ab",
   "metadata": {},
   "outputs": [
    {
     "name": "stderr",
     "output_type": "stream",
     "text": [
      "***** Running training *****\n",
      "  Num examples = 245772\n",
      "  Num Epochs = 2\n",
      "  Instantaneous batch size per device = 64\n",
      "  Total train batch size (w. parallel, distributed & accumulation) = 128\n",
      "  Gradient Accumulation steps = 1\n",
      "  Total optimization steps = 3842\n",
      "  Number of trainable parameters = 300176768\n",
      "Automatic Weights & Biases logging enabled, to disable set os.environ[\"WANDB_DISABLED\"] = \"true\"\n"
     ]
    },
    {
     "data": {
      "text/html": [
       "Changes to your `wandb` environment variables will be ignored because your `wandb` session has already started. For more information on how to modify your settings with `wandb.init()` arguments, please refer to <a href=\"https://wandb.me/wandb-init\" target=\"_blank\">the W&B docs</a>."
      ],
      "text/plain": [
       "<IPython.core.display.HTML object>"
      ]
     },
     "metadata": {},
     "output_type": "display_data"
    },
    {
     "data": {
      "text/html": [
       "wandb version 0.15.2 is available!  To upgrade, please run:\n",
       " $ pip install wandb --upgrade"
      ],
      "text/plain": [
       "<IPython.core.display.HTML object>"
      ]
     },
     "metadata": {},
     "output_type": "display_data"
    },
    {
     "data": {
      "text/html": [
       "Tracking run with wandb version 0.13.7"
      ],
      "text/plain": [
       "<IPython.core.display.HTML object>"
      ]
     },
     "metadata": {},
     "output_type": "display_data"
    },
    {
     "data": {
      "text/html": [
       "Run data is saved locally in <code>/cephfs/home/akhmadjonov/workspace/notebooks/SberTech/task3/wandb/run-20230507_175128-31psllr7</code>"
      ],
      "text/plain": [
       "<IPython.core.display.HTML object>"
      ]
     },
     "metadata": {},
     "output_type": "display_data"
    },
    {
     "data": {
      "text/html": [
       "Syncing run <strong><a href=\"https://wandb.ai/imumtozee/eng_ru_nmt/runs/31psllr7\" target=\"_blank\">mt5-small-lr2e5</a></strong> to <a href=\"https://wandb.ai/imumtozee/eng_ru_nmt\" target=\"_blank\">Weights & Biases</a> (<a href=\"https://wandb.me/run\" target=\"_blank\">docs</a>)<br/>"
      ],
      "text/plain": [
       "<IPython.core.display.HTML object>"
      ]
     },
     "metadata": {},
     "output_type": "display_data"
    },
    {
     "name": "stderr",
     "output_type": "stream",
     "text": [
      "libibverbs: Warning: couldn't open config directory '/etc/libibverbs.d'.\n",
      "/home/akhmadjonov/miniconda3/envs/sber/lib/python3.9/site-packages/torch/nn/parallel/_functions.py:68: UserWarning: Was asked to gather along dimension 0, but all input tensors were scalars; will instead unsqueeze and return a vector.\n",
      "  warnings.warn('Was asked to gather along dimension 0, but all '\n"
     ]
    },
    {
     "data": {
      "text/html": [
       "\n",
       "    <div>\n",
       "      \n",
       "      <progress value='201' max='3842' style='width:300px; height:20px; vertical-align: middle;'></progress>\n",
       "      [ 201/3842 01:28 < 26:54, 2.25 it/s, Epoch 0.10/2]\n",
       "    </div>\n",
       "    <table border=\"1\" class=\"dataframe\">\n",
       "  <thead>\n",
       " <tr style=\"text-align: left;\">\n",
       "      <th>Step</th>\n",
       "      <th>Training Loss</th>\n",
       "      <th>Validation Loss</th>\n",
       "    </tr>\n",
       "  </thead>\n",
       "  <tbody>\n",
       "  </tbody>\n",
       "</table><p>\n",
       "    <div>\n",
       "      \n",
       "      <progress value='21' max='481' style='width:300px; height:20px; vertical-align: middle;'></progress>\n",
       "      [ 21/481 00:03 < 01:19, 5.78 it/s]\n",
       "    </div>\n",
       "    "
      ],
      "text/plain": [
       "<IPython.core.display.HTML object>"
      ]
     },
     "metadata": {},
     "output_type": "display_data"
    },
    {
     "data": {
      "text/plain": [
       "TrainOutput(global_step=3842, training_loss=2.817783175006253, metrics={'train_runtime': 3386.2888, 'train_samples_per_second': 145.157, 'train_steps_per_second': 1.135, 'total_flos': 3.248796725673984e+16, 'train_loss': 2.817783175006253, 'epoch': 2.0})"
      ]
     },
     "execution_count": 14,
     "metadata": {},
     "output_type": "execute_result"
    },
    {
     "name": "stderr",
     "output_type": "stream",
     "text": [
      "wandb: Waiting for W&B process to finish... (success).\n",
      "wandb: - 0.011 MB of 0.461 MB uploaded (0.000 MB deduped)\r"
     ]
    }
   ],
   "source": [
    "train_results = trainer.train(resume_from_checkpoint=False)\n",
    "train_results"
   ]
  },
  {
   "attachments": {},
   "cell_type": "markdown",
   "id": "b476bdcb",
   "metadata": {},
   "source": [
    "# EVAL"
   ]
  },
  {
   "cell_type": "code",
   "execution_count": 18,
   "id": "77a0acfa",
   "metadata": {},
   "outputs": [
    {
     "name": "stderr",
     "output_type": "stream",
     "text": [
      "***** Running Evaluation *****\n",
      "  Num examples = 61443\n",
      "  Batch size = 256\n",
      "libibverbs: Warning: couldn't open config directory '/etc/libibverbs.d'.\n",
      "/home/akhmadjonov/miniconda3/envs/sber/lib/python3.9/site-packages/torch/nn/parallel/_functions.py:68: UserWarning: Was asked to gather along dimension 0, but all input tensors were scalars; will instead unsqueeze and return a vector.\n",
      "  warnings.warn('Was asked to gather along dimension 0, but all '\n"
     ]
    },
    {
     "data": {
      "text/html": [
       "\n",
       "    <div>\n",
       "      \n",
       "      <progress value='241' max='241' style='width:300px; height:20px; vertical-align: middle;'></progress>\n",
       "      [241/241 01:18]\n",
       "    </div>\n",
       "    "
      ],
      "text/plain": [
       "<IPython.core.display.HTML object>"
      ]
     },
     "metadata": {},
     "output_type": "display_data"
    },
    {
     "name": "stderr",
     "output_type": "stream",
     "text": [
      "Automatic Weights & Biases logging enabled, to disable set os.environ[\"WANDB_DISABLED\"] = \"true\"\n"
     ]
    },
    {
     "data": {
      "text/html": [
       "Changes to your `wandb` environment variables will be ignored because your `wandb` session has already started. For more information on how to modify your settings with `wandb.init()` arguments, please refer to <a href=\"https://wandb.me/wandb-init\" target=\"_blank\">the W&B docs</a>."
      ],
      "text/plain": [
       "<IPython.core.display.HTML object>"
      ]
     },
     "metadata": {},
     "output_type": "display_data"
    },
    {
     "data": {
      "text/html": [
       "wandb version 0.15.2 is available!  To upgrade, please run:\n",
       " $ pip install wandb --upgrade"
      ],
      "text/plain": [
       "<IPython.core.display.HTML object>"
      ]
     },
     "metadata": {},
     "output_type": "display_data"
    },
    {
     "data": {
      "text/html": [
       "Tracking run with wandb version 0.13.7"
      ],
      "text/plain": [
       "<IPython.core.display.HTML object>"
      ]
     },
     "metadata": {},
     "output_type": "display_data"
    },
    {
     "data": {
      "text/html": [
       "Run data is saved locally in <code>/cephfs/home/akhmadjonov/workspace/notebooks/SberTech/task3/wandb/run-20230507_174036-30w3acre</code>"
      ],
      "text/plain": [
       "<IPython.core.display.HTML object>"
      ]
     },
     "metadata": {},
     "output_type": "display_data"
    },
    {
     "data": {
      "text/html": [
       "Syncing run <strong><a href=\"https://wandb.ai/imumtozee/eng_ru_nmt/runs/30w3acre\" target=\"_blank\">mt5-small-lr2e5</a></strong> to <a href=\"https://wandb.ai/imumtozee/eng_ru_nmt\" target=\"_blank\">Weights & Biases</a> (<a href=\"https://wandb.me/run\" target=\"_blank\">docs</a>)<br/>"
      ],
      "text/plain": [
       "<IPython.core.display.HTML object>"
      ]
     },
     "metadata": {},
     "output_type": "display_data"
    },
    {
     "data": {
      "text/plain": [
       "{'eval_loss': 4.4182538986206055,\n",
       " 'eval_runtime': 81.9401,\n",
       " 'eval_samples_per_second': 749.852,\n",
       " 'eval_steps_per_second': 2.941}"
      ]
     },
     "execution_count": 18,
     "metadata": {},
     "output_type": "execute_result"
    }
   ],
   "source": [
    "eval_res = trainer.evaluate()\n",
    "eval_res"
   ]
  },
  {
   "cell_type": "code",
   "execution_count": 10,
   "id": "c4b0a833",
   "metadata": {},
   "outputs": [],
   "source": [
    "import json\n",
    "from src.metrics import bleu_scorer\n",
    "from src.data.t5_tokenizer import T5Tokenizer\n",
    "batch = data_enc[\"val\"].select(torch.randperm(n=len(data_enc[\"val\"]))[:100])[:]\n",
    "dummy_toker = T5Tokenizer(t5toker)"
   ]
  },
  {
   "cell_type": "code",
   "execution_count": 24,
   "id": "ce6f4cab",
   "metadata": {},
   "outputs": [
    {
     "data": {
      "text/plain": [
       "tensor([[     0, 250099,    259,  ...,      0,      0,      0],\n",
       "        [     0, 250099,    259,  ...,      0,      0,      0],\n",
       "        [     0, 250099,    259,  ...,      0,      0,      0],\n",
       "        ...,\n",
       "        [     0, 250099,    790,  ...,      0,      0,      0],\n",
       "        [     0, 250099,    259,  ...,      0,      0,      0],\n",
       "        [     0, 250099,    521,  ...,      0,      0,      0]])"
      ]
     },
     "execution_count": 24,
     "metadata": {},
     "output_type": "execute_result"
    }
   ],
   "source": [
    "t5.eval()\n",
    "with torch.no_grad():\n",
    "    out = t5.generate(batch[\"input_ids\"].to(\"cuda:0\"), max_new_tokens=64).cpu()\n",
    "t5.train()\n",
    "out"
   ]
  },
  {
   "cell_type": "code",
   "execution_count": 11,
   "id": "f8fd765e",
   "metadata": {},
   "outputs": [],
   "source": [
    "bleu_scores = []\n",
    "for i in range(200, 3900, 200):\n",
    "    tmp_model = MT5ForConditionalGeneration.from_pretrained(\n",
    "        f\"./checkpoints/mT5_small/checkpoint-{i}\"\n",
    "    ).to(\"cuda:0\")\n",
    "    tmp_model.eval()\n",
    "    with torch.no_grad():\n",
    "        out = tmp_model.generate(batch[\"input_ids\"].to(\"cuda:0\"), max_new_tokens=64).cpu()\n",
    "    predicted = out.squeeze().detach().cpu().numpy()[:, 2:]\n",
    "    actuals = batch[\"labels\"].squeeze().detach().cpu().numpy()[:, 2:]\n",
    "    bleu_score, actual_sentences, predicted_sentences = bleu_scorer(\n",
    "        predicted=predicted, actual=actuals, target_tokenizer=dummy_toker\n",
    "    )\n",
    "    bleu_scores.append(bleu_score)\n",
    "    del tmp_model\n",
    "    torch.cuda.empty_cache()"
   ]
  },
  {
   "cell_type": "code",
   "execution_count": 13,
   "id": "d994ff53",
   "metadata": {},
   "outputs": [],
   "source": [
    "logger = TXTLogger(work_dir=\"./training_logs/\")\n",
    "log_hist = None\n",
    "with open(\"./checkpoints/mT5_small/checkpoint-3800/trainer_state.json\", \"r\") as f:\n",
    "    log_hist = json.load(f)[\"log_history\"]\n",
    "\n",
    "logger.log(\"dummy line\\n\")\n",
    "for i in range(len(bleu_scores)):\n",
    "    new_item = {\n",
    "        \"val_loss\": log_hist[2 * i + 1][\"eval_loss\"],\n",
    "        \"train_loss\": log_hist[2 * i][\"loss\"],\n",
    "        \"bleu_score\": bleu_scores[i],\n",
    "        \"epoch\": log_hist[2 * i][\"epoch\"],\n",
    "    }\n",
    "    logger.log(new_item)"
   ]
  },
  {
   "cell_type": "code",
   "execution_count": 16,
   "id": "84f1fbfe",
   "metadata": {},
   "outputs": [
    {
     "data": {
      "image/png": "[encoded data removed]",
      "text/plain": [
       "<Figure size 1200x400 with 2 Axes>"
      ]
     },
     "metadata": {},
     "output_type": "display_data"
    }
   ],
   "source": [
    "plot_results(\"./training_logs/mt5_final.txt\")"
   ]
  },
  {
   "cell_type": "code",
   "execution_count": 21,
   "id": "0ffb3737",
   "metadata": {},
   "outputs": [
    {
     "data": {
      "text/plain": [
       "(['▁ тому ▁времени ▁как ▁ тому ▁исполн илось ▁три надцат ь ▁лет ▁он ▁ уже ▁мог ▁говорит ь ▁на ▁тр ё х ▁язык ах',\n",
       "  '▁не ▁волн ует ▁что ▁том ▁дела ет ▁со ▁сво ими ▁день гами',\n",
       "  '▁ ая ▁сов есть ▁призна к ▁ плохо й ▁памят и',\n",
       "  '▁дума ете ▁он ▁сдела л ▁эт у ▁ работу ▁сам',\n",
       "  '▁ только ▁вы ▁до бер етесь ▁до ▁ вокзал а ▁вы ▁най дете ▁дорог у ▁без ▁проблем'],\n",
       " ['▁том ▁мог ▁бы ▁говорит ь ▁три ▁язык а',\n",
       "  '▁ я ▁не ▁ знаю ▁что ▁том ▁дела ет ▁с ▁сво им ▁ деньги',\n",
       "  '▁чист ая ▁памят ь ▁ означа ет ▁ плох ая ▁памят ь',\n",
       "  '▁ты ▁дума ешь ▁что ▁он ▁сдела л ▁сво й ▁собствен ный ▁job',\n",
       "  '▁ты ▁ будет ▁ туда ▁ где ▁ты ▁ будет ▁в ▁машин е'])"
      ]
     },
     "execution_count": 21,
     "metadata": {},
     "output_type": "execute_result"
    }
   ],
   "source": [
    "actual_sentences[:5], predicted_sentences[:5]"
   ]
  },
  {
   "cell_type": "code",
   "execution_count": null,
   "id": "7493abe2",
   "metadata": {},
   "outputs": [],
   "source": []
  }
 ],
 "metadata": {
  "kernelspec": {
   "display_name": "Python 3 (ipykernel)",
   "language": "python",
   "name": "python3"
  },
  "language_info": {
   "codemirror_mode": {
    "name": "ipython",
    "version": 3
   },
   "file_extension": ".py",
   "mimetype": "text/x-python",
   "name": "python",
   "nbconvert_exporter": "python",
   "pygments_lexer": "ipython3",
   "version": "3.9.15"
  }
 },
 "nbformat": 4,
 "nbformat_minor": 5
}
